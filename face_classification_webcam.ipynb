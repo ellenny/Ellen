{
 "cells": [
  {
   "cell_type": "code",
   "execution_count": 1,
   "metadata": {
    "id": "gDMOSmlfz9o_",
    "tags": []
   },
   "outputs": [
    {
     "name": "stdout",
     "output_type": "stream",
     "text": [
      "WARNING:tensorflow:From C:\\Users\\cgw95\\anaconda3\\envs\\face\\lib\\site-packages\\keras\\src\\losses.py:2976: The name tf.losses.sparse_softmax_cross_entropy is deprecated. Please use tf.compat.v1.losses.sparse_softmax_cross_entropy instead.\n",
      "\n"
     ]
    }
   ],
   "source": [
    "import warnings\n",
    "warnings.filterwarnings('ignore')\n",
    "\n",
    "# 데이터 확인\n",
    "import numpy as np\n",
    "import pandas as pd\n",
    "import matplotlib.pyplot as plt\n",
    "\n",
    "# Dataset 만들기\n",
    "import keras\n",
    "from keras.utils import to_categorical\n",
    "\n",
    "# Detect Face\n",
    "import cv2\n",
    "from scipy.ndimage import zoom\n",
    "\n",
    "# Model\n",
    "import torch\n",
    "from keras.models import Sequential\n",
    "# from keras.layers.convolutional import Conv2D, MaxPooling2D\n",
    "from tensorflow.keras.layers import Conv2D, MaxPooling2D\n",
    "# from keras.layers.core import Dense, Dropout, Activation, Flatten\n",
    "from tensorflow.keras.layers import Dense, Dropout, Activation, Flatten\n",
    "# from keras.layers.normalization import batch_normalization\n",
    "from tensorflow.keras.models import Sequential\n",
    "\n",
    "from keras.models import Model\n",
    "from keras.preprocessing.image import ImageDataGenerator"
   ]
  },
  {
   "cell_type": "code",
   "execution_count": 2,
   "metadata": {
    "executionInfo": {
     "elapsed": 278,
     "status": "ok",
     "timestamp": 1700149661549,
     "user": {
      "displayName": "최기원",
      "userId": "01859623484991989729"
     },
     "user_tz": -540
    },
    "id": "fXfZP9HS0M0h",
    "tags": []
   },
   "outputs": [],
   "source": [
    "shape_x = 48\n",
    "shape_y = 48\n",
    "\n",
    "# 전체 이미지에서 얼굴을 찾아내는 함수\n",
    "def detect_face(frame):\n",
    "\n",
    "    # cascade pre-trained 모델 불러오기\n",
    "    face_cascade = cv2.CascadeClassifier('./model/haarcascade_frontalface_alt.xml')\n",
    "\n",
    "    # RGB를 gray scale로 바꾸기\n",
    "    gray = cv2.cvtColor(frame, cv2.COLOR_BGR2GRAY)\n",
    "\n",
    "    # cascade 멀티스케일 분류\n",
    "    detected_faces = face_cascade.detectMultiScale(gray,\n",
    "                                                   scaleFactor = 1.1,\n",
    "                                                   minNeighbors = 6,\n",
    "                                                   minSize = (shape_x, shape_y),\n",
    "                                                   flags = cv2.CASCADE_SCALE_IMAGE\n",
    "                                                  )\n",
    "\n",
    "    coord = []\n",
    "    for x, y, w, h in detected_faces:\n",
    "        if w > 100:\n",
    "            sub_img = frame[y:y+h, x:x+w]\n",
    "            coord.append([x, y, w, h])\n",
    "\n",
    "    return gray, detected_faces, coord"
   ]
  },
  {
   "cell_type": "code",
   "execution_count": 3,
   "metadata": {
    "executionInfo": {
     "elapsed": 979,
     "status": "ok",
     "timestamp": 1700149695570,
     "user": {
      "displayName": "최기원",
      "userId": "01859623484991989729"
     },
     "user_tz": -540
    },
    "id": "UBed1vG-0R0P",
    "tags": []
   },
   "outputs": [],
   "source": [
    "# 전체 이미지에서 찾아낸 얼굴을 추출하는 함수\n",
    "def extract_face_features(gray, detected_faces, coord, offset_coefficients=(0.075, 0.05)):\n",
    "    new_face = []\n",
    "    for det in detected_faces:\n",
    "\n",
    "        # 얼굴로 감지된 영역\n",
    "        x, y, w, h = det\n",
    "\n",
    "        # 이미지 경계값 받기\n",
    "        horizontal_offset = int(np.floor(offset_coefficients[0] * w))\n",
    "        vertical_offset = int(np.floor(offset_coefficients[1] * h))\n",
    "\n",
    "        # gray scacle 에서 해당 위치 가져오기\n",
    "        extracted_face = gray[y+vertical_offset:y+h, x+horizontal_offset:x-horizontal_offset+w]\n",
    "\n",
    "        # 얼굴 이미지만 확대\n",
    "        new_extracted_face = zoom(extracted_face, (shape_x/extracted_face.shape[0], shape_y/extracted_face.shape[1]))\n",
    "        new_extracted_face = new_extracted_face.astype(np.float32)\n",
    "        new_extracted_face /= float(new_extracted_face.max()) # sacled\n",
    "        new_face.append(new_extracted_face)\n",
    "\n",
    "    return new_face"
   ]
  },
  {
   "cell_type": "code",
   "execution_count": null,
   "metadata": {},
   "outputs": [
    {
     "name": "stdout",
     "output_type": "stream",
     "text": [
      "WARNING:tensorflow:From C:\\Users\\cgw95\\anaconda3\\envs\\face\\lib\\site-packages\\keras\\src\\backend.py:1398: The name tf.executing_eagerly_outside_functions is deprecated. Please use tf.compat.v1.executing_eagerly_outside_functions instead.\n",
      "\n",
      "WARNING:tensorflow:From C:\\Users\\cgw95\\anaconda3\\envs\\face\\lib\\site-packages\\keras\\src\\layers\\pooling\\max_pooling2d.py:161: The name tf.nn.max_pool is deprecated. Please use tf.nn.max_pool2d instead.\n",
      "\n"
     ]
    }
   ],
   "source": [
    "# 모델 불러오기\n",
    "model = keras.models.load_model('./model/model.h5')\n",
    "\n",
    "# 인덱스번호로 웹캠연결 대부분 시스템적으로 0번부터 부여됨\n",
    "video_capture = cv2.VideoCapture(0)\n",
    "# 프레임 단위로 영상 캡쳐\n",
    "video_capture.set(cv2.CAP_PROP_FRAME_WIDTH, 640)\n",
    "video_capture.set(cv2.CAP_PROP_FRAME_HEIGHT, 480)\n",
    "while True:\n",
    "    ret, frame = video_capture.read()\n",
    "    # ret: 비디오를 성공적으로 읽어왔는지 확인 True/False\n",
    "    # frame: 각 픽셀의 색상을 포함한 프레임 정보 Numpy\n",
    "    \n",
    "    face_index = 0\n",
    "    gray, detected_faces, coord = detect_face(frame)\n",
    "    \n",
    "    try:\n",
    "        face_zoom = extract_face_features(gray, detected_faces, coord)\n",
    "        face_zoom = np.reshape(face_zoom[0].flatten(), (1, 48, 48, 1))\n",
    "        x, y, w, h = coord[face_index]\n",
    "        \n",
    "        # 머리 둘레에 직사각형 그리기: (0, 255, 0)을 통해 녹색으로 선두께는 2\n",
    "        cv2.rectangle(frame, (x, y), (x+w, y+h), (0, 255, 255), 2)\n",
    "        \n",
    "        # 감정 예측\n",
    "        pred = model.predict(face_zoom)\n",
    "        pred_result = np.argmax(pred)\n",
    "        \n",
    "        # 각 라벨별 예측 정도 표시\n",
    "        cv2.putText(frame,                                   # 텍스트를 표시할 프레임\n",
    "                    \"Angry: \" + str(round(pred[0][0], 3)),   # 텍스트 표시 \"감정: 예측 probablity\", 소수점 아래 3자리\n",
    "                    (10, 50),                                # 텍스트 위치\n",
    "                    cv2.FONT_HERSHEY_SIMPLEX,                # 폰트 종류\n",
    "                    1,                                       # 폰트 사이즈\n",
    "                    (0, 255, 255),                             # 폰트 색상\n",
    "                    1                                        # 폰트 두께\n",
    "                   )\n",
    "        cv2.putText(frame, \"Disgust: \" + str(round(pred[0][1], 3)), (10, 90), cv2.FONT_HERSHEY_SIMPLEX, 1, (0, 255, 255), 1)\n",
    "        cv2.putText(frame, \"Fear: \" + str(round(pred[0][2], 3)), (10, 130), cv2.FONT_HERSHEY_SIMPLEX, 1, (0, 255, 255), 1)\n",
    "        cv2.putText(frame, \"Happy: \" + str(round(pred[0][3], 3)), (10, 170), cv2.FONT_HERSHEY_SIMPLEX, 1, (0, 255, 255), 1)\n",
    "        cv2.putText(frame, \"Sad: \" + str(round(pred[0][4], 3)), (10, 210), cv2.FONT_HERSHEY_SIMPLEX, 1, (0, 255, 255), 1)\n",
    "        cv2.putText(frame, \"Surprise: \" + str(round(pred[0][5], 3)), (10, 250), cv2.FONT_HERSHEY_SIMPLEX, 1, (0, 255, 255), 1)\n",
    "        cv2.putText(frame, \"Neutral: \" + str(round(pred[0][6], 3)), (10, 290), cv2.FONT_HERSHEY_SIMPLEX, 1, (0, 255, 255), 1)\n",
    "        \n",
    "        # 예측값이 높은 라벨 하나만 프레임 옆에 표시\n",
    "        if pred_result == 0:\n",
    "            cv2.putText(frame, \"Angry \", (x, y), cv2.FONT_HERSHEY_SIMPLEX, 2, (0, 255, 255), 4)\n",
    "        elif pred_result == 1:\n",
    "            cv2.putText(frame, \"Disgust \", (x, y), cv2.FONT_HERSHEY_SIMPLEX, 2, (0, 255, 255), 4)\n",
    "        elif pred_result == 2:\n",
    "            cv2.putText(frame, \"Fear \", (x, y), cv2.FONT_HERSHEY_SIMPLEX, 2, (0, 255, 255), 4)\n",
    "        elif pred_result == 3:\n",
    "            cv2.putText(frame, \"Happy \", (x, y), cv2.FONT_HERSHEY_SIMPLEX, 2, (0, 255, 255), 4)\n",
    "        elif pred_result == 4:\n",
    "            cv2.putText(frame, \"Sad \", (x, y), cv2.FONT_HERSHEY_SIMPLEX, 2, (0, 255, 255), 4)\n",
    "        elif pred_result == 5:\n",
    "            cv2.putText(frame, \"Surprise \", (x, y), cv2.FONT_HERSHEY_SIMPLEX, 2, (0, 255, 255), 4)\n",
    "        else:\n",
    "            cv2.putText(frame, \"Neutral \", (x, y), cv2.FONT_HERSHEY_SIMPLEX, 2, (0, 255, 255), 4)\n",
    "    \n",
    "    except:\n",
    "        continue\n",
    "        \n",
    "    # 결과 표시\n",
    "    cv2.imshow('Video', frame)\n",
    "    \n",
    "    # 사용자가 q 키를 누르면 종료\n",
    "    if cv2.waitKey(1) & 0xFF == ord('q'):\n",
    "        break\n",
    "        \n",
    "# 웹캠 해지\n",
    "video_capture.release()\n",
    "\n",
    "# 창 닫기: 창이 안닫히는 경우 쥬피터 닫기\n",
    "cv2.destroyAllWindows()"
   ]
  }
 ],
 "metadata": {
  "colab": {
   "authorship_tag": "ABX9TyMS2BvAw9GwAEID6UQ5xneu",
   "provenance": []
  },
  "kernelspec": {
   "display_name": "Python 3 (ipykernel)",
   "language": "python",
   "name": "python3"
  },
  "language_info": {
   "codemirror_mode": {
    "name": "ipython",
    "version": 3
   },
   "file_extension": ".py",
   "mimetype": "text/x-python",
   "name": "python",
   "nbconvert_exporter": "python",
   "pygments_lexer": "ipython3",
   "version": "3.10.0"
  }
 },
 "nbformat": 4,
 "nbformat_minor": 4
}
