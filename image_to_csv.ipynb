{
 "cells": [
  {
   "cell_type": "code",
   "execution_count": 20,
   "id": "8bca5caa-b847-47d1-ab51-fcce6a844c4e",
   "metadata": {},
   "outputs": [],
   "source": [
    "from PIL import Image\n",
    "import csv\n",
    "import os\n",
    "import random\n",
    "\n",
    "def image_to_csv(image_path, csv_path, emotion_label, usage):\n",
    "    # 이미지 열기\n",
    "    img = Image.open(image_path)\n",
    "\n",
    "    # 이미지 데이터를 리스트로 변환\n",
    "    img_data = list(img.getdata())\n",
    "\n",
    "    # 픽셀 값을 하나의 문자열로 합치기\n",
    "    pixel_values = ' '.join(map(str, img_data))\n",
    "\n",
    "    # CSV 파일로 데이터 쓰기\n",
    "    with open(csv_path, 'a', newline='') as csvfile:\n",
    "        csv_writer = csv.writer(csvfile, delimiter=',')  # 쉼표(,)로 값을 구분\n",
    "\n",
    "        # 라벨, 픽셀 값 문자열, 훈련 또는 테스트 상태를 한 행에 나타내기\n",
    "        csv_writer.writerow([emotion_label, pixel_values, usage])\n",
    "\n",
    "# 이미지 파일이 있는 디렉토리 경로\n",
    "image_directory = 'image_file'\n",
    "# CSV 파일 경로\n",
    "csv_path = '0.csv'\n",
    "\n",
    "# 라벨과 용도 지정\n",
    "emotion_label = '0'  # 감정 라벨 설정\n",
    "train_test_split_ratio = 0.8  # 훈련 데이터의 비율\n",
    "\n",
    "# 디렉토리 내의 파일 목록 가져오기\n",
    "image_files = [f for f in os.listdir(image_directory) if os.path.isfile(os.path.join(image_directory, f))]\n",
    "\n",
    "# 파일을 훈련 및 테스트로 나누기\n",
    "random.shuffle(image_files)\n",
    "train_files = image_files[:int(train_test_split_ratio * len(image_files))]\n",
    "test_files = image_files[int(train_test_split_ratio * len(image_files)):]\n",
    "\n",
    "# 파일을 CSV로 변환\n",
    "for train_file in train_files:\n",
    "    image_path = os.path.join(image_directory, train_file)\n",
    "    image_to_csv(image_path, csv_path, emotion_label, 'Training')\n",
    "\n",
    "for test_file in test_files:\n",
    "    image_path = os.path.join(image_directory, test_file)\n",
    "    image_to_csv(image_path, csv_path, emotion_label, 'PublicTest')"
   ]
  }
 ],
 "metadata": {
  "kernelspec": {
   "display_name": "Python 3 (ipykernel)",
   "language": "python",
   "name": "python3"
  },
  "language_info": {
   "codemirror_mode": {
    "name": "ipython",
    "version": 3
   },
   "file_extension": ".py",
   "mimetype": "text/x-python",
   "name": "python",
   "nbconvert_exporter": "python",
   "pygments_lexer": "ipython3",
   "version": "3.10.0"
  }
 },
 "nbformat": 4,
 "nbformat_minor": 5
}
